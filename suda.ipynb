{
  "nbformat": 4,
  "nbformat_minor": 0,
  "metadata": {
    "colab": {
      "provenance": [],
      "authorship_tag": "ABX9TyNCgIzEQYF3G/x+E9PBCQl7",
      "include_colab_link": true
    },
    "kernelspec": {
      "name": "python3",
      "display_name": "Python 3"
    },
    "language_info": {
      "name": "python"
    }
  },
  "cells": [
    {
      "cell_type": "markdown",
      "metadata": {
        "id": "view-in-github",
        "colab_type": "text"
      },
      "source": [
        "<a href=\"https://colab.research.google.com/github/Julie-0411/Internship_phase-I/blob/main/suda.ipynb\" target=\"_parent\"><img src=\"https://colab.research.google.com/assets/colab-badge.svg\" alt=\"Open In Colab\"/></a>"
      ]
    },
    {
      "cell_type": "code",
      "execution_count": null,
      "metadata": {
        "id": "_1jqAYQjNxay"
      },
      "outputs": [],
      "source": [
        "import pandas as pd\n",
        "import numpy as np\n",
        "import matplotlib.pyplot as pyplot\n",
        "import seaborn as sns\n",
        "%matplotlib inline\n",
        "data = pd.read_csv(\"/content/Amazon Sales dataset.csv\",encoding = 'latin-1')"
      ]
    },
    {
      "cell_type": "code",
      "source": [
        "data.info()"
      ],
      "metadata": {
        "colab": {
          "base_uri": "https://localhost:8080/"
        },
        "id": "9MtNfz_OO2Ee",
        "outputId": "fa118d2f-2926-485e-fafc-cc1ede85e327"
      },
      "execution_count": null,
      "outputs": [
        {
          "output_type": "stream",
          "name": "stdout",
          "text": [
            "<class 'pandas.core.frame.DataFrame'>\n",
            "RangeIndex: 100 entries, 0 to 99\n",
            "Data columns (total 14 columns):\n",
            " #   Column          Non-Null Count  Dtype  \n",
            "---  ------          --------------  -----  \n",
            " 0   Region          100 non-null    object \n",
            " 1   Country         100 non-null    object \n",
            " 2   Item Type       100 non-null    object \n",
            " 3   Sales Channel   100 non-null    object \n",
            " 4   Order Priority  100 non-null    object \n",
            " 5   Order Date      100 non-null    object \n",
            " 6   Order ID        100 non-null    int64  \n",
            " 7   Ship Date       100 non-null    object \n",
            " 8   Units Sold      100 non-null    int64  \n",
            " 9   Unit Price      100 non-null    float64\n",
            " 10  Unit Cost       100 non-null    float64\n",
            " 11  Total Revenue   100 non-null    float64\n",
            " 12  Total Cost      100 non-null    float64\n",
            " 13  Total Profit    100 non-null    float64\n",
            "dtypes: float64(5), int64(2), object(7)\n",
            "memory usage: 11.1+ KB\n"
          ]
        }
      ]
    },
    {
      "cell_type": "code",
      "source": [
        "data['Order Date'] = pd.to_datetime(data['Order Date'])\n",
        "data['Ship Date'] = pd.to_datetime(data['Ship Date'])\n",
        "data['Region'] = data['Region'].astype(str)\n",
        "data['Country'] = data['Country'].astype(str)\n",
        "data['Item Type'] = data['Item Type'].astype(str)\n",
        "data['Sales Channel'] = data['Sales Channel'].astype(str)\n",
        "data['Order Priority'] = data['Order Priority'].astype(str)"
      ],
      "metadata": {
        "id": "QURjMOR8PEsv"
      },
      "execution_count": null,
      "outputs": []
    },
    {
      "cell_type": "code",
      "source": [
        "data[['Units Sold', 'Unit Price',\t'Unit Cost', 'Total Revenue', 'Total Cost',\t'Total Profit']].describe()"
      ],
      "metadata": {
        "colab": {
          "base_uri": "https://localhost:8080/",
          "height": 300
        },
        "id": "RyrfwAwPPNjt",
        "outputId": "9e71834d-9a9c-4834-b7f7-065443cb5489"
      },
      "execution_count": null,
      "outputs": [
        {
          "output_type": "execute_result",
          "data": {
            "text/plain": [
              "        Units Sold  Unit Price   Unit Cost  Total Revenue    Total Cost  \\\n",
              "count   100.000000  100.000000  100.000000   1.000000e+02  1.000000e+02   \n",
              "mean   5128.710000  276.761300  191.048000   1.373488e+06  9.318057e+05   \n",
              "std    2794.484562  235.592241  188.208181   1.460029e+06  1.083938e+06   \n",
              "min     124.000000    9.330000    6.920000   4.870260e+03  3.612240e+03   \n",
              "25%    2836.250000   81.730000   35.840000   2.687212e+05  1.688680e+05   \n",
              "50%    5382.500000  179.880000  107.275000   7.523144e+05  3.635664e+05   \n",
              "75%    7369.000000  437.200000  263.330000   2.212045e+06  1.613870e+06   \n",
              "max    9925.000000  668.270000  524.960000   5.997055e+06  4.509794e+06   \n",
              "\n",
              "       Total Profit  \n",
              "count  1.000000e+02  \n",
              "mean   4.416820e+05  \n",
              "std    4.385379e+05  \n",
              "min    1.258020e+03  \n",
              "25%    1.214436e+05  \n",
              "50%    2.907680e+05  \n",
              "75%    6.358288e+05  \n",
              "max    1.719922e+06  "
            ],
            "text/html": [
              "\n",
              "\n",
              "  <div id=\"df-ed0931f1-6ba7-49a0-9fd7-b4a23694a034\">\n",
              "    <div class=\"colab-df-container\">\n",
              "      <div>\n",
              "<style scoped>\n",
              "    .dataframe tbody tr th:only-of-type {\n",
              "        vertical-align: middle;\n",
              "    }\n",
              "\n",
              "    .dataframe tbody tr th {\n",
              "        vertical-align: top;\n",
              "    }\n",
              "\n",
              "    .dataframe thead th {\n",
              "        text-align: right;\n",
              "    }\n",
              "</style>\n",
              "<table border=\"1\" class=\"dataframe\">\n",
              "  <thead>\n",
              "    <tr style=\"text-align: right;\">\n",
              "      <th></th>\n",
              "      <th>Units Sold</th>\n",
              "      <th>Unit Price</th>\n",
              "      <th>Unit Cost</th>\n",
              "      <th>Total Revenue</th>\n",
              "      <th>Total Cost</th>\n",
              "      <th>Total Profit</th>\n",
              "    </tr>\n",
              "  </thead>\n",
              "  <tbody>\n",
              "    <tr>\n",
              "      <th>count</th>\n",
              "      <td>100.000000</td>\n",
              "      <td>100.000000</td>\n",
              "      <td>100.000000</td>\n",
              "      <td>1.000000e+02</td>\n",
              "      <td>1.000000e+02</td>\n",
              "      <td>1.000000e+02</td>\n",
              "    </tr>\n",
              "    <tr>\n",
              "      <th>mean</th>\n",
              "      <td>5128.710000</td>\n",
              "      <td>276.761300</td>\n",
              "      <td>191.048000</td>\n",
              "      <td>1.373488e+06</td>\n",
              "      <td>9.318057e+05</td>\n",
              "      <td>4.416820e+05</td>\n",
              "    </tr>\n",
              "    <tr>\n",
              "      <th>std</th>\n",
              "      <td>2794.484562</td>\n",
              "      <td>235.592241</td>\n",
              "      <td>188.208181</td>\n",
              "      <td>1.460029e+06</td>\n",
              "      <td>1.083938e+06</td>\n",
              "      <td>4.385379e+05</td>\n",
              "    </tr>\n",
              "    <tr>\n",
              "      <th>min</th>\n",
              "      <td>124.000000</td>\n",
              "      <td>9.330000</td>\n",
              "      <td>6.920000</td>\n",
              "      <td>4.870260e+03</td>\n",
              "      <td>3.612240e+03</td>\n",
              "      <td>1.258020e+03</td>\n",
              "    </tr>\n",
              "    <tr>\n",
              "      <th>25%</th>\n",
              "      <td>2836.250000</td>\n",
              "      <td>81.730000</td>\n",
              "      <td>35.840000</td>\n",
              "      <td>2.687212e+05</td>\n",
              "      <td>1.688680e+05</td>\n",
              "      <td>1.214436e+05</td>\n",
              "    </tr>\n",
              "    <tr>\n",
              "      <th>50%</th>\n",
              "      <td>5382.500000</td>\n",
              "      <td>179.880000</td>\n",
              "      <td>107.275000</td>\n",
              "      <td>7.523144e+05</td>\n",
              "      <td>3.635664e+05</td>\n",
              "      <td>2.907680e+05</td>\n",
              "    </tr>\n",
              "    <tr>\n",
              "      <th>75%</th>\n",
              "      <td>7369.000000</td>\n",
              "      <td>437.200000</td>\n",
              "      <td>263.330000</td>\n",
              "      <td>2.212045e+06</td>\n",
              "      <td>1.613870e+06</td>\n",
              "      <td>6.358288e+05</td>\n",
              "    </tr>\n",
              "    <tr>\n",
              "      <th>max</th>\n",
              "      <td>9925.000000</td>\n",
              "      <td>668.270000</td>\n",
              "      <td>524.960000</td>\n",
              "      <td>5.997055e+06</td>\n",
              "      <td>4.509794e+06</td>\n",
              "      <td>1.719922e+06</td>\n",
              "    </tr>\n",
              "  </tbody>\n",
              "</table>\n",
              "</div>\n",
              "      <button class=\"colab-df-convert\" onclick=\"convertToInteractive('df-ed0931f1-6ba7-49a0-9fd7-b4a23694a034')\"\n",
              "              title=\"Convert this dataframe to an interactive table.\"\n",
              "              style=\"display:none;\">\n",
              "\n",
              "  <svg xmlns=\"http://www.w3.org/2000/svg\" height=\"24px\"viewBox=\"0 0 24 24\"\n",
              "       width=\"24px\">\n",
              "    <path d=\"M0 0h24v24H0V0z\" fill=\"none\"/>\n",
              "    <path d=\"M18.56 5.44l.94 2.06.94-2.06 2.06-.94-2.06-.94-.94-2.06-.94 2.06-2.06.94zm-11 1L8.5 8.5l.94-2.06 2.06-.94-2.06-.94L8.5 2.5l-.94 2.06-2.06.94zm10 10l.94 2.06.94-2.06 2.06-.94-2.06-.94-.94-2.06-.94 2.06-2.06.94z\"/><path d=\"M17.41 7.96l-1.37-1.37c-.4-.4-.92-.59-1.43-.59-.52 0-1.04.2-1.43.59L10.3 9.45l-7.72 7.72c-.78.78-.78 2.05 0 2.83L4 21.41c.39.39.9.59 1.41.59.51 0 1.02-.2 1.41-.59l7.78-7.78 2.81-2.81c.8-.78.8-2.07 0-2.86zM5.41 20L4 18.59l7.72-7.72 1.47 1.35L5.41 20z\"/>\n",
              "  </svg>\n",
              "      </button>\n",
              "\n",
              "\n",
              "\n",
              "    <div id=\"df-48880179-e1f3-4ff1-aaaf-d9a5f76e4da2\">\n",
              "      <button class=\"colab-df-quickchart\" onclick=\"quickchart('df-48880179-e1f3-4ff1-aaaf-d9a5f76e4da2')\"\n",
              "              title=\"Suggest charts.\"\n",
              "              style=\"display:none;\">\n",
              "\n",
              "<svg xmlns=\"http://www.w3.org/2000/svg\" height=\"24px\"viewBox=\"0 0 24 24\"\n",
              "     width=\"24px\">\n",
              "    <g>\n",
              "        <path d=\"M19 3H5c-1.1 0-2 .9-2 2v14c0 1.1.9 2 2 2h14c1.1 0 2-.9 2-2V5c0-1.1-.9-2-2-2zM9 17H7v-7h2v7zm4 0h-2V7h2v10zm4 0h-2v-4h2v4z\"/>\n",
              "    </g>\n",
              "</svg>\n",
              "      </button>\n",
              "    </div>\n",
              "\n",
              "<style>\n",
              "  .colab-df-quickchart {\n",
              "    background-color: #E8F0FE;\n",
              "    border: none;\n",
              "    border-radius: 50%;\n",
              "    cursor: pointer;\n",
              "    display: none;\n",
              "    fill: #1967D2;\n",
              "    height: 32px;\n",
              "    padding: 0 0 0 0;\n",
              "    width: 32px;\n",
              "  }\n",
              "\n",
              "  .colab-df-quickchart:hover {\n",
              "    background-color: #E2EBFA;\n",
              "    box-shadow: 0px 1px 2px rgba(60, 64, 67, 0.3), 0px 1px 3px 1px rgba(60, 64, 67, 0.15);\n",
              "    fill: #174EA6;\n",
              "  }\n",
              "\n",
              "  [theme=dark] .colab-df-quickchart {\n",
              "    background-color: #3B4455;\n",
              "    fill: #D2E3FC;\n",
              "  }\n",
              "\n",
              "  [theme=dark] .colab-df-quickchart:hover {\n",
              "    background-color: #434B5C;\n",
              "    box-shadow: 0px 1px 3px 1px rgba(0, 0, 0, 0.15);\n",
              "    filter: drop-shadow(0px 1px 2px rgba(0, 0, 0, 0.3));\n",
              "    fill: #FFFFFF;\n",
              "  }\n",
              "</style>\n",
              "\n",
              "    <script>\n",
              "      async function quickchart(key) {\n",
              "        const containerElement = document.querySelector('#' + key);\n",
              "        const charts = await google.colab.kernel.invokeFunction(\n",
              "            'suggestCharts', [key], {});\n",
              "      }\n",
              "    </script>\n",
              "\n",
              "      <script>\n",
              "\n",
              "function displayQuickchartButton(domScope) {\n",
              "  let quickchartButtonEl =\n",
              "    domScope.querySelector('#df-48880179-e1f3-4ff1-aaaf-d9a5f76e4da2 button.colab-df-quickchart');\n",
              "  quickchartButtonEl.style.display =\n",
              "    google.colab.kernel.accessAllowed ? 'block' : 'none';\n",
              "}\n",
              "\n",
              "        displayQuickchartButton(document);\n",
              "      </script>\n",
              "      <style>\n",
              "    .colab-df-container {\n",
              "      display:flex;\n",
              "      flex-wrap:wrap;\n",
              "      gap: 12px;\n",
              "    }\n",
              "\n",
              "    .colab-df-convert {\n",
              "      background-color: #E8F0FE;\n",
              "      border: none;\n",
              "      border-radius: 50%;\n",
              "      cursor: pointer;\n",
              "      display: none;\n",
              "      fill: #1967D2;\n",
              "      height: 32px;\n",
              "      padding: 0 0 0 0;\n",
              "      width: 32px;\n",
              "    }\n",
              "\n",
              "    .colab-df-convert:hover {\n",
              "      background-color: #E2EBFA;\n",
              "      box-shadow: 0px 1px 2px rgba(60, 64, 67, 0.3), 0px 1px 3px 1px rgba(60, 64, 67, 0.15);\n",
              "      fill: #174EA6;\n",
              "    }\n",
              "\n",
              "    [theme=dark] .colab-df-convert {\n",
              "      background-color: #3B4455;\n",
              "      fill: #D2E3FC;\n",
              "    }\n",
              "\n",
              "    [theme=dark] .colab-df-convert:hover {\n",
              "      background-color: #434B5C;\n",
              "      box-shadow: 0px 1px 3px 1px rgba(0, 0, 0, 0.15);\n",
              "      filter: drop-shadow(0px 1px 2px rgba(0, 0, 0, 0.3));\n",
              "      fill: #FFFFFF;\n",
              "    }\n",
              "  </style>\n",
              "\n",
              "      <script>\n",
              "        const buttonEl =\n",
              "          document.querySelector('#df-ed0931f1-6ba7-49a0-9fd7-b4a23694a034 button.colab-df-convert');\n",
              "        buttonEl.style.display =\n",
              "          google.colab.kernel.accessAllowed ? 'block' : 'none';\n",
              "\n",
              "        async function convertToInteractive(key) {\n",
              "          const element = document.querySelector('#df-ed0931f1-6ba7-49a0-9fd7-b4a23694a034');\n",
              "          const dataTable =\n",
              "            await google.colab.kernel.invokeFunction('convertToInteractive',\n",
              "                                                     [key], {});\n",
              "          if (!dataTable) return;\n",
              "\n",
              "          const docLinkHtml = 'Like what you see? Visit the ' +\n",
              "            '<a target=\"_blank\" href=https://colab.research.google.com/notebooks/data_table.ipynb>data table notebook</a>'\n",
              "            + ' to learn more about interactive tables.';\n",
              "          element.innerHTML = '';\n",
              "          dataTable['output_type'] = 'display_data';\n",
              "          await google.colab.output.renderOutput(dataTable, element);\n",
              "          const docLink = document.createElement('div');\n",
              "          docLink.innerHTML = docLinkHtml;\n",
              "          element.appendChild(docLink);\n",
              "        }\n",
              "      </script>\n",
              "    </div>\n",
              "  </div>\n"
            ]
          },
          "metadata": {},
          "execution_count": 4
        }
      ]
    },
    {
      "cell_type": "code",
      "source": [
        "data['Order Month'] = data['Order Date'].dt.month\n",
        "data['Order Year'] = data['Order Date'].dt.year\n",
        "data['Order Date MonthYear'] = data['Order Date'].dt.strftime('%Y-%m')\n",
        "data = data.drop(columns=['Order Date'])\n",
        "df = data"
      ],
      "metadata": {
        "id": "I9kJLML5PPZQ"
      },
      "execution_count": null,
      "outputs": []
    },
    {
      "cell_type": "code",
      "source": [
        "df.isnull().sum()"
      ],
      "metadata": {
        "colab": {
          "base_uri": "https://localhost:8080/"
        },
        "id": "stE_zLhBPePG",
        "outputId": "9f645753-0a21-4bd9-a5b2-f17fe625a56f"
      },
      "execution_count": null,
      "outputs": [
        {
          "output_type": "execute_result",
          "data": {
            "text/plain": [
              "Region                  0\n",
              "Country                 0\n",
              "Item Type               0\n",
              "Sales Channel           0\n",
              "Order Priority          0\n",
              "Order ID                0\n",
              "Ship Date               0\n",
              "Units Sold              0\n",
              "Unit Price              0\n",
              "Unit Cost               0\n",
              "Total Revenue           0\n",
              "Total Cost              0\n",
              "Total Profit            0\n",
              "Order Month             0\n",
              "Order Year              0\n",
              "Order Date MonthYear    0\n",
              "dtype: int64"
            ]
          },
          "metadata": {},
          "execution_count": 6
        }
      ]
    },
    {
      "cell_type": "code",
      "source": [
        "pd.set_option('display.max_rows', None)\n",
        "df['Country'].value_counts()"
      ],
      "metadata": {
        "colab": {
          "base_uri": "https://localhost:8080/"
        },
        "id": "lsbTfuCgPiFH",
        "outputId": "fea9ef6c-e288-4eb0-a8c4-c5b2c3c0ae75"
      },
      "execution_count": null,
      "outputs": [
        {
          "output_type": "execute_result",
          "data": {
            "text/plain": [
              "The Gambia                          4\n",
              "Sierra Leone                        3\n",
              "Sao Tome and Principe               3\n",
              "Mexico                              3\n",
              "Australia                           3\n",
              "Djibouti                            3\n",
              "Switzerland                         2\n",
              "Myanmar                             2\n",
              "Norway                              2\n",
              "Turkmenistan                        2\n",
              "Cameroon                            2\n",
              "Bulgaria                            2\n",
              "Honduras                            2\n",
              "Azerbaijan                          2\n",
              "Libya                               2\n",
              "Rwanda                              2\n",
              "Mali                                2\n",
              "Gabon                               1\n",
              "Belize                              1\n",
              "Haiti                               1\n",
              "Lithuania                           1\n",
              "San Marino                          1\n",
              "United Kingdom                      1\n",
              "Austria                             1\n",
              "Fiji                                1\n",
              "Madagascar                          1\n",
              "Cote d'Ivoire                       1\n",
              "Tuvalu                              1\n",
              "Democratic Republic of the Congo    1\n",
              "Zambia                              1\n",
              "Malaysia                            1\n",
              "Nicaragua                           1\n",
              "Romania                             1\n",
              "Slovenia                            1\n",
              "Kuwait                              1\n",
              "Kenya                               1\n",
              "Iran                                1\n",
              "Pakistan                            1\n",
              "Lebanon                             1\n",
              "Spain                               1\n",
              "Samoa                               1\n",
              "Monaco                              1\n",
              "Laos                                1\n",
              "Saudi Arabia                        1\n",
              "Federated States of Micronesia      1\n",
              "Slovakia                            1\n",
              "Lesotho                             1\n",
              "Albania                             1\n",
              "Russia                              1\n",
              "Solomon Islands                     1\n",
              "Angola                              1\n",
              "Burkina Faso                        1\n",
              "Republic of the Congo               1\n",
              "Senegal                             1\n",
              "Kyrgyzstan                          1\n",
              "Cape Verde                          1\n",
              "Bangladesh                          1\n",
              "Mongolia                            1\n",
              "Sri Lanka                           1\n",
              "East Timor                          1\n",
              "Portugal                            1\n",
              "New Zealand                         1\n",
              "Moldova                             1\n",
              "France                              1\n",
              "Kiribati                            1\n",
              "South Sudan                         1\n",
              "Costa Rica                          1\n",
              "Syria                               1\n",
              "Brunei                              1\n",
              "Niger                               1\n",
              "Grenada                             1\n",
              "Comoros                             1\n",
              "Iceland                             1\n",
              "Macedonia                           1\n",
              "Mauritania                          1\n",
              "Mozambique                          1\n",
              "Name: Country, dtype: int64"
            ]
          },
          "metadata": {},
          "execution_count": 7
        }
      ]
    },
    {
      "cell_type": "code",
      "source": [
        "import matplotlib.pyplot as plt\n",
        "country_names = df.Country.value_counts().index\n",
        "country_val = df.Country.value_counts().values\n",
        "fig,ax = plt.subplots(figsize=(9,9))\n",
        "ax.pie(country_val[:20],labels=country_names[:20],autopct='%1.2f%%')\n",
        "plt.show()"
      ],
      "metadata": {
        "colab": {
          "base_uri": "https://localhost:8080/",
          "height": 730
        },
        "id": "JCv8-XTuP2hA",
        "outputId": "c5426f03-20ac-4270-fe84-e26dd0d6dcf4"
      },
      "execution_count": null,
      "outputs": [
        {
          "output_type": "display_data",
          "data": {
            "text/plain": [
              "<Figure size 900x900 with 1 Axes>"
            ],
            "image/png": "[encoded data removed]"
          },
          "metadata": {}
        }
      ]
    },
    {
      "cell_type": "code",
      "source": [
        "import matplotlib.pyplot as plt\n",
        "sns.set(style='white')\n",
        "fig, ax = plt.subplots(figsize=(10, 2))\n",
        "sns.boxplot(data['Total Profit'], color=\"plum\", width=.6)\n",
        "plt.title('Total Profit Boxplot', fontsize=13)\n",
        "plt.xlabel('Profit')\n",
        "plt.show()"
      ],
      "metadata": {
        "colab": {
          "base_uri": "https://localhost:8080/",
          "height": 265
        },
        "id": "-urAIDcgP8H4",
        "outputId": "5798c36c-0183-487a-dd1a-a45fc79482e0"
      },
      "execution_count": null,
      "outputs": [
        {
          "output_type": "display_data",
          "data": {
            "text/plain": [
              "<Figure size 1000x200 with 1 Axes>"
            ],
            "image/png": "[encoded data removed]"
          },
          "metadata": {}
        }
      ]
    },
    {
      "cell_type": "code",
      "source": [
        "def detect_outliers(dataframe, column):\n",
        "    threshold = 2\n",
        "    mean = np.mean(column)\n",
        "    std = np.std(column)\n",
        "    outliers = []\n",
        "    for i, value in enumerate(column):\n",
        "        z_score = (value - mean) / std\n",
        "        if np.abs(z_score) > threshold:\n",
        "            outliers.append(i)\n",
        "            print(dataframe.loc[i])\n",
        "    return outliers"
      ],
      "metadata": {
        "id": "YH3qqNqiQBRq"
      },
      "execution_count": null,
      "outputs": []
    },
    {
      "cell_type": "code",
      "source": [
        "outliers = detect_outliers(df, df[\"Total Profit\"])"
      ],
      "metadata": {
        "colab": {
          "base_uri": "https://localhost:8080/"
        },
        "id": "4VSEcJdlQYqZ",
        "outputId": "3e170f16-4f8a-4416-dcbe-27f37b5efabf"
      },
      "execution_count": null,
      "outputs": [
        {
          "output_type": "stream",
          "name": "stdout",
          "text": [
            "Region                  Central America and the Caribbean\n",
            "Country                                          Honduras\n",
            "Item Type                                       Household\n",
            "Sales Channel                                     Offline\n",
            "Order Priority                                          H\n",
            "Order ID                                        522840487\n",
            "Ship Date                             2017-02-13 00:00:00\n",
            "Units Sold                                           8974\n",
            "Unit Price                                         668.27\n",
            "Unit Cost                                          502.54\n",
            "Total Revenue                                  5997054.98\n",
            "Total Cost                                     4509793.96\n",
            "Total Profit                                   1487261.02\n",
            "Order Month                                             2\n",
            "Order Year                                           2017\n",
            "Order Date MonthYear                              2017-02\n",
            "Name: 13, dtype: object\n",
            "Region                               Europe\n",
            "Country                         Switzerland\n",
            "Item Type                         Cosmetics\n",
            "Sales Channel                       Offline\n",
            "Order Priority                            M\n",
            "Order ID                          249693334\n",
            "Ship Date               2012-10-20 00:00:00\n",
            "Units Sold                             8661\n",
            "Unit Price                            437.2\n",
            "Unit Cost                            263.33\n",
            "Total Revenue                     3786589.2\n",
            "Total Cost                       2280701.13\n",
            "Total Profit                     1505888.07\n",
            "Order Month                               9\n",
            "Order Year                             2012\n",
            "Order Date MonthYear                2012-09\n",
            "Name: 30, dtype: object\n",
            "Region                                 Asia\n",
            "Country                             Myanmar\n",
            "Item Type                         Household\n",
            "Sales Channel                       Offline\n",
            "Order Priority                            H\n",
            "Order ID                          177713572\n",
            "Ship Date               2015-03-01 00:00:00\n",
            "Units Sold                             8250\n",
            "Unit Price                           668.27\n",
            "Unit Cost                            502.54\n",
            "Total Revenue                     5513227.5\n",
            "Total Cost                        4145955.0\n",
            "Total Profit                      1367272.5\n",
            "Order Month                               1\n",
            "Order Year                             2015\n",
            "Order Date MonthYear                2015-01\n",
            "Name: 33, dtype: object\n",
            "Region                               Europe\n",
            "Country                             Iceland\n",
            "Item Type                         Cosmetics\n",
            "Sales Channel                        Online\n",
            "Order Priority                            C\n",
            "Order ID                          331438481\n",
            "Ship Date               2016-12-31 00:00:00\n",
            "Units Sold                             8867\n",
            "Unit Price                            437.2\n",
            "Unit Cost                            263.33\n",
            "Total Revenue                     3876652.4\n",
            "Total Cost                       2334947.11\n",
            "Total Profit                     1541705.29\n",
            "Order Month                              12\n",
            "Order Year                             2016\n",
            "Order Date MonthYear                2016-12\n",
            "Name: 46, dtype: object\n",
            "Region                  Middle East and North Africa\n",
            "Country                                     Pakistan\n",
            "Item Type                                  Cosmetics\n",
            "Sales Channel                                Offline\n",
            "Order Priority                                     L\n",
            "Order ID                                   231145322\n",
            "Ship Date                        2013-08-16 00:00:00\n",
            "Units Sold                                      9892\n",
            "Unit Price                                     437.2\n",
            "Unit Cost                                     263.33\n",
            "Total Revenue                              4324782.4\n",
            "Total Cost                                2604860.36\n",
            "Total Profit                              1719922.04\n",
            "Order Month                                        7\n",
            "Order Year                                      2013\n",
            "Order Date MonthYear                         2013-07\n",
            "Name: 74, dtype: object\n",
            "Region                  Australia and Oceania\n",
            "Country                                Samoa \n",
            "Item Type                           Cosmetics\n",
            "Sales Channel                          Online\n",
            "Order Priority                              H\n",
            "Order ID                            670854651\n",
            "Ship Date                 2013-08-07 00:00:00\n",
            "Units Sold                               9654\n",
            "Unit Price                              437.2\n",
            "Unit Cost                              263.33\n",
            "Total Revenue                       4220728.8\n",
            "Total Cost                         2542187.82\n",
            "Total Profit                       1678540.98\n",
            "Order Month                                 7\n",
            "Order Year                               2013\n",
            "Order Date MonthYear                  2013-07\n",
            "Name: 79, dtype: object\n",
            "Region                               Europe\n",
            "Country                             Romania\n",
            "Item Type                         Cosmetics\n",
            "Sales Channel                        Online\n",
            "Order Priority                            H\n",
            "Order ID                          660643374\n",
            "Ship Date               2010-12-25 00:00:00\n",
            "Units Sold                             7910\n",
            "Unit Price                            437.2\n",
            "Unit Cost                            263.33\n",
            "Total Revenue                     3458252.0\n",
            "Total Cost                        2082940.3\n",
            "Total Profit                      1375311.7\n",
            "Order Month                              11\n",
            "Order Year                             2010\n",
            "Order Date MonthYear                2010-11\n",
            "Name: 93, dtype: object\n"
          ]
        }
      ]
    },
    {
      "cell_type": "code",
      "source": [
        "print(outliers)"
      ],
      "metadata": {
        "colab": {
          "base_uri": "https://localhost:8080/"
        },
        "id": "BrorUq7RQa_W",
        "outputId": "c39471a9-89b6-4a59-f0b0-6831d63d0c04"
      },
      "execution_count": null,
      "outputs": [
        {
          "output_type": "stream",
          "name": "stdout",
          "text": [
            "[13, 30, 33, 46, 74, 79, 93]\n"
          ]
        }
      ]
    },
    {
      "cell_type": "code",
      "source": [
        "list_length = len(outliers)\n",
        "print(\"The list has\", list_length, \"outliers in Total Profit column of dataframe data \")"
      ],
      "metadata": {
        "colab": {
          "base_uri": "https://localhost:8080/"
        },
        "id": "UPNiFCwmQfOS",
        "outputId": "3bed1468-0f9d-4277-d3f9-366e0a64f454"
      },
      "execution_count": null,
      "outputs": [
        {
          "output_type": "stream",
          "name": "stdout",
          "text": [
            "The list has 7 outliers in Total Profit column of dataframe data \n"
          ]
        }
      ]
    },
    {
      "cell_type": "code",
      "source": [
        "sns.set(style='white')\n",
        "fig, ax = plt.subplots(figsize=(10, 2))\n",
        "sns.boxplot(data['Total Cost'], color=\"plum\", width=.6)\n",
        "plt.title('Total Cost Boxplot', fontsize=13)\n",
        "plt.xlabel('Cost')\n",
        "plt.show()"
      ],
      "metadata": {
        "colab": {
          "base_uri": "https://localhost:8080/",
          "height": 265
        },
        "id": "DPrWx0xoQlbQ",
        "outputId": "b58f56a8-bbbd-4fd4-8fc3-112827b3b613"
      },
      "execution_count": null,
      "outputs": [
        {
          "output_type": "display_data",
          "data": {
            "text/plain": [
              "<Figure size 1000x200 with 1 Axes>"
            ],
            "image/png": "[encoded data removed]"
          },
          "metadata": {}
        }
      ]
    },
    {
      "cell_type": "code",
      "source": [
        "outliers = detect_outliers(df, df[\"Total Cost\"])"
      ],
      "metadata": {
        "colab": {
          "base_uri": "https://localhost:8080/"
        },
        "id": "qLoH2fuYQpci",
        "outputId": "34e596e7-3b7e-40a7-effb-dc129f457236"
      },
      "execution_count": null,
      "outputs": [
        {
          "output_type": "stream",
          "name": "stdout",
          "text": [
            "Region                  Central America and the Caribbean\n",
            "Country                                          Honduras\n",
            "Item Type                                       Household\n",
            "Sales Channel                                     Offline\n",
            "Order Priority                                          H\n",
            "Order ID                                        522840487\n",
            "Ship Date                             2017-02-13 00:00:00\n",
            "Units Sold                                           8974\n",
            "Unit Price                                         668.27\n",
            "Unit Cost                                          502.54\n",
            "Total Revenue                                  5997054.98\n",
            "Total Cost                                     4509793.96\n",
            "Total Profit                                   1487261.02\n",
            "Order Month                                             2\n",
            "Order Year                                           2017\n",
            "Order Date MonthYear                              2017-02\n",
            "Name: 13, dtype: object\n",
            "Region                                 Asia\n",
            "Country                             Myanmar\n",
            "Item Type                         Household\n",
            "Sales Channel                       Offline\n",
            "Order Priority                            H\n",
            "Order ID                          177713572\n",
            "Ship Date               2015-03-01 00:00:00\n",
            "Units Sold                             8250\n",
            "Unit Price                           668.27\n",
            "Unit Cost                            502.54\n",
            "Total Revenue                     5513227.5\n",
            "Total Cost                        4145955.0\n",
            "Total Profit                      1367272.5\n",
            "Order Month                               1\n",
            "Order Year                             2015\n",
            "Order Date MonthYear                2015-01\n",
            "Name: 33, dtype: object\n",
            "Region                                 Asia\n",
            "Country                              Brunei\n",
            "Item Type                   Office Supplies\n",
            "Sales Channel                        Online\n",
            "Order Priority                            L\n",
            "Order ID                          320009267\n",
            "Ship Date               2012-05-08 00:00:00\n",
            "Units Sold                             6708\n",
            "Unit Price                           651.21\n",
            "Unit Cost                            524.96\n",
            "Total Revenue                    4368316.68\n",
            "Total Cost                       3521431.68\n",
            "Total Profit                       846885.0\n",
            "Order Month                               4\n",
            "Order Year                             2012\n",
            "Order Date MonthYear                2012-04\n",
            "Name: 38, dtype: object\n",
            "Region                               Europe\n",
            "Country                           Lithuania\n",
            "Item Type                   Office Supplies\n",
            "Sales Channel                       Offline\n",
            "Order Priority                            H\n",
            "Order ID                          166460740\n",
            "Ship Date               2010-11-17 00:00:00\n",
            "Units Sold                             8287\n",
            "Unit Price                           651.21\n",
            "Unit Cost                            524.96\n",
            "Total Revenue                    5396577.27\n",
            "Total Cost                       4350343.52\n",
            "Total Profit                     1046233.75\n",
            "Order Month                              10\n",
            "Order Year                             2010\n",
            "Order Date MonthYear                2010-10\n",
            "Name: 68, dtype: object\n",
            "Region                        North America\n",
            "Country                              Mexico\n",
            "Item Type                         Household\n",
            "Sales Channel                       Offline\n",
            "Order Priority                            C\n",
            "Order ID                          986435210\n",
            "Ship Date               2014-12-12 00:00:00\n",
            "Units Sold                             6954\n",
            "Unit Price                           668.27\n",
            "Unit Cost                            502.54\n",
            "Total Revenue                    4647149.58\n",
            "Total Cost                       3494663.16\n",
            "Total Profit                     1152486.42\n",
            "Order Month                              11\n",
            "Order Year                             2014\n",
            "Order Date MonthYear                2014-11\n",
            "Name: 75, dtype: object\n"
          ]
        }
      ]
    },
    {
      "cell_type": "code",
      "source": [
        "print(outliers)"
      ],
      "metadata": {
        "colab": {
          "base_uri": "https://localhost:8080/"
        },
        "id": "aHMv34f4RMHn",
        "outputId": "0057a9c8-ab28-4f7a-f3db-404aa7cb7cac"
      },
      "execution_count": null,
      "outputs": [
        {
          "output_type": "stream",
          "name": "stdout",
          "text": [
            "[13, 33, 38, 68, 75]\n"
          ]
        }
      ]
    },
    {
      "cell_type": "code",
      "source": [
        "list_length = len(outliers)\n",
        "print(\"The list has\", list_length, \"outliers in Total Cost column of dataframe data \")"
      ],
      "metadata": {
        "colab": {
          "base_uri": "https://localhost:8080/"
        },
        "id": "2K0JbOTvRPX8",
        "outputId": "8836a792-6f2c-4e9a-9639-aa2d863b0bff"
      },
      "execution_count": null,
      "outputs": [
        {
          "output_type": "stream",
          "name": "stdout",
          "text": [
            "The list has 5 outliers in Total Cost column of dataframe data \n"
          ]
        }
      ]
    }
  ]
}